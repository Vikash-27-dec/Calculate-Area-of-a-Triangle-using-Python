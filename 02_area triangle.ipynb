{
 "cells": [
  {
   "cell_type": "markdown",
   "id": "0d5411a6-2baa-46f9-9e54-232f26cdc2fb",
   "metadata": {},
   "source": [
    "## Write a Python program to find the area of a triangle."
   ]
  },
  {
   "cell_type": "code",
   "execution_count": 1,
   "id": "e07e75d5-4b1f-421f-9244-cc38bdcbb968",
   "metadata": {},
   "outputs": [
    {
     "name": "stdin",
     "output_type": "stream",
     "text": [
      "Enter the length of the base of the triangle:  10\n",
      "Enter the height of the triangle:  20\n"
     ]
    },
    {
     "name": "stdout",
     "output_type": "stream",
     "text": [
      " The area of the triangle is 100.0\n"
     ]
    }
   ],
   "source": [
    "base = float(input(\"Enter the length of the base of the triangle: \"))\n",
    "height = float(input(\"Enter the height of the triangle: \"))\n",
    "# Calculate the area of the triangle:-\n",
    "area = base*height/2\n",
    "# Display the result\n",
    "print(f\" The area of the triangle is {area}\")\n",
    "            "
   ]
  },
  {
   "cell_type": "code",
   "execution_count": null,
   "id": "5905eb57-8520-4533-b881-380850931462",
   "metadata": {},
   "outputs": [],
   "source": []
  }
 ],
 "metadata": {
  "kernelspec": {
   "display_name": "Python [conda env:base] *",
   "language": "python",
   "name": "conda-base-py"
  },
  "language_info": {
   "codemirror_mode": {
    "name": "ipython",
    "version": 3
   },
   "file_extension": ".py",
   "mimetype": "text/x-python",
   "name": "python",
   "nbconvert_exporter": "python",
   "pygments_lexer": "ipython3",
   "version": "3.12.7"
  }
 },
 "nbformat": 4,
 "nbformat_minor": 5
}
